{
 "cells": [
  {
   "cell_type": "code",
   "execution_count": 5,
   "metadata": {},
   "outputs": [],
   "source": [
    "import numpy as np \n",
    "import pandas as pd \n",
    "import matplotlib.pyplot as plt\n",
    "import cv2\n",
    "import tensorflow as tf\n",
    "from PIL import Image\n",
    "import os\n",
    "from sklearn.model_selection import train_test_split\n",
    "from keras.utils import to_categorical\n",
    "from keras.models import Sequential, load_model\n",
    "from keras.layers import Conv2D, MaxPool2D, Dense, Flatten, Dropout"
   ]
  },
  {
   "cell_type": "code",
   "execution_count": 6,
   "metadata": {},
   "outputs": [],
   "source": [
    "data = []\n",
    "labels = []\n",
    "classes = 43\n",
    "cur_path = os.getcwd()\n",
    "#Retrieving the images and their labels \n",
    "for i in range(classes):\n",
    "    path = os.path.join(cur_path,'train',str(i))\n",
    "    images = os.listdir(path)\n",
    "    for a in images:\n",
    "        try:\n",
    "            image = Image.open(path + '\\\\'+ a)\n",
    "            image = image.resize((30,30))\n",
    "            image = np.array(image)\n",
    "            #sim = Image.fromarray(image)\n",
    "            data.append(image)\n",
    "            labels.append(i)\n",
    "        except:\n",
    "            print(\"Error loading image\")\n",
    "#Converting lists into numpy arrays\n",
    "data = np.array(data)\n",
    "labels = np.array(labels)"
   ]
  },
  {
   "cell_type": "code",
   "execution_count": 7,
   "metadata": {},
   "outputs": [
    {
     "name": "stdout",
     "output_type": "stream",
     "text": [
      "(39209, 30, 30, 3) (39209,)\n",
      "(31367, 30, 30, 3) (7842, 30, 30, 3) (31367,) (7842,)\n"
     ]
    }
   ],
   "source": [
    "print(data.shape, labels.shape)\n",
    "#Splitting training and testing dataset\n",
    "X_train, X_test, y_train, y_test = train_test_split(data, labels, test_size=0.2, random_state=42)\n",
    "print(X_train.shape, X_test.shape, y_train.shape, y_test.shape)\n",
    "#Converting the labels into one hot encoding\n",
    "y_train = to_categorical(y_train, 43)\n",
    "y_test = to_categorical(y_test, 43)"
   ]
  },
  {
   "cell_type": "code",
   "execution_count": 8,
   "metadata": {},
   "outputs": [],
   "source": [
    "#Building the model\n",
    "model = Sequential()\n",
    "model.add(Conv2D(filters=32, kernel_size=(5,5), activation='relu', input_shape=X_train.shape[1:]))\n",
    "model.add(Conv2D(filters=32, kernel_size=(5,5), activation='relu'))\n",
    "model.add(MaxPool2D(pool_size=(2, 2)))\n",
    "model.add(Dropout(rate=0.25))\n",
    "model.add(Conv2D(filters=64, kernel_size=(3, 3), activation='relu'))\n",
    "model.add(Conv2D(filters=64, kernel_size=(3, 3), activation='relu'))\n",
    "model.add(MaxPool2D(pool_size=(2, 2)))\n",
    "model.add(Dropout(rate=0.25))\n",
    "model.add(Flatten())\n",
    "model.add(Dense(256, activation='relu'))\n",
    "model.add(Dropout(rate=0.5))\n",
    "model.add(Dense(43, activation='softmax'))\n",
    "#Compilation of the model\n",
    "model.compile(loss='categorical_crossentropy', optimizer='adam', metrics=['accuracy'])"
   ]
  },
  {
   "cell_type": "code",
   "execution_count": 9,
   "metadata": {},
   "outputs": [
    {
     "name": "stdout",
     "output_type": "stream",
     "text": [
      "Epoch 1/15\n",
      "981/981 [==============================] - 56s 57ms/step - loss: 1.8141 - accuracy: 0.5488 - val_loss: 0.5653 - val_accuracy: 0.8641\n",
      "Epoch 2/15\n",
      "981/981 [==============================] - 56s 57ms/step - loss: 0.5363 - accuracy: 0.8451 - val_loss: 0.1897 - val_accuracy: 0.9478\n",
      "Epoch 3/15\n",
      "981/981 [==============================] - 58s 59ms/step - loss: 0.3769 - accuracy: 0.8934 - val_loss: 0.1201 - val_accuracy: 0.9668\n",
      "Epoch 4/15\n",
      "981/981 [==============================] - 56s 57ms/step - loss: 0.3021 - accuracy: 0.9171 - val_loss: 0.0958 - val_accuracy: 0.9768\n",
      "Epoch 5/15\n",
      "981/981 [==============================] - 58s 59ms/step - loss: 0.2461 - accuracy: 0.9331 - val_loss: 0.0737 - val_accuracy: 0.9815\n",
      "Epoch 6/15\n",
      "981/981 [==============================] - 58s 59ms/step - loss: 0.2174 - accuracy: 0.9397 - val_loss: 0.0656 - val_accuracy: 0.9806\n",
      "Epoch 7/15\n",
      "981/981 [==============================] - 58s 59ms/step - loss: 0.2361 - accuracy: 0.9379 - val_loss: 0.0513 - val_accuracy: 0.9843\n",
      "Epoch 8/15\n",
      "981/981 [==============================] - 56s 57ms/step - loss: 0.2173 - accuracy: 0.9430 - val_loss: 0.0461 - val_accuracy: 0.9880\n",
      "Epoch 9/15\n",
      "981/981 [==============================] - 61s 62ms/step - loss: 0.2082 - accuracy: 0.9454 - val_loss: 0.0580 - val_accuracy: 0.9857\n",
      "Epoch 10/15\n",
      "981/981 [==============================] - 57s 58ms/step - loss: 0.2093 - accuracy: 0.9461 - val_loss: 0.0466 - val_accuracy: 0.9889\n",
      "Epoch 11/15\n",
      "981/981 [==============================] - 58s 59ms/step - loss: 0.1963 - accuracy: 0.9507 - val_loss: 0.0417 - val_accuracy: 0.9878\n",
      "Epoch 12/15\n",
      "981/981 [==============================] - 57s 58ms/step - loss: 0.1949 - accuracy: 0.9517 - val_loss: 0.0491 - val_accuracy: 0.9870\n",
      "Epoch 13/15\n",
      "981/981 [==============================] - 57s 58ms/step - loss: 0.1786 - accuracy: 0.9546 - val_loss: 0.0465 - val_accuracy: 0.9887\n",
      "Epoch 14/15\n",
      "981/981 [==============================] - 60s 61ms/step - loss: 0.2154 - accuracy: 0.9476 - val_loss: 0.0454 - val_accuracy: 0.9883\n",
      "Epoch 15/15\n",
      "981/981 [==============================] - 58s 59ms/step - loss: 0.1951 - accuracy: 0.9515 - val_loss: 0.1061 - val_accuracy: 0.9716\n"
     ]
    }
   ],
   "source": [
    "epochs = 15\n",
    "history = model.fit(X_train, y_train, batch_size=32, epochs=epochs, validation_data=(X_test, y_test))"
   ]
  },
  {
   "cell_type": "code",
   "execution_count": 10,
   "metadata": {},
   "outputs": [
    {
     "data": {
      "image/png": "[encoded data removed]",
      "text/plain": [
       "<Figure size 432x288 with 1 Axes>"
      ]
     },
     "metadata": {
      "needs_background": "light"
     },
     "output_type": "display_data"
    },
    {
     "data": {
      "image/png": "[encoded data removed]",
      "text/plain": [
       "<Figure size 432x288 with 1 Axes>"
      ]
     },
     "metadata": {
      "needs_background": "light"
     },
     "output_type": "display_data"
    }
   ],
   "source": [
    "#plotting graphs for accuracy \n",
    "plt.figure(0)\n",
    "plt.plot(history.history['accuracy'], label='training accuracy')\n",
    "plt.plot(history.history['val_accuracy'], label='val accuracy')\n",
    "plt.title('Accuracy')\n",
    "plt.xlabel('epochs')\n",
    "plt.ylabel('accuracy')\n",
    "plt.legend()\n",
    "plt.show()\n",
    "plt.figure(1)\n",
    "plt.plot(history.history['loss'], label='training loss')\n",
    "plt.plot(history.history['val_loss'], label='val loss')\n",
    "plt.title('Loss')\n",
    "plt.xlabel('epochs')\n",
    "plt.ylabel('loss')\n",
    "plt.legend()\n",
    "plt.show()"
   ]
  },
  {
   "cell_type": "code",
   "execution_count": 17,
   "metadata": {},
   "outputs": [
    {
     "name": "stdout",
     "output_type": "stream",
     "text": [
      "0.9341250989707047\n"
     ]
    }
   ],
   "source": [
    "#testing accuracy on test dataset\n",
    "from sklearn.metrics import accuracy_score\n",
    "y_test = pd.read_csv('Test.csv')\n",
    "labels = y_test[\"ClassId\"].values\n",
    "imgs = y_test[\"Path\"].values\n",
    "data=[]\n",
    "for img in imgs:\n",
    "    image = Image.open(img)\n",
    "    image = image.resize((30,30))\n",
    "    data.append(np.array(image))\n",
    "X_test=np.array(data)\n",
    "pred = model.predict_classes(X_test)\n",
    "#Accuracy with the test data\n",
    "from sklearn.metrics import accuracy_score\n",
    "print(accuracy_score(labels, pred))\n",
    "model.save(\"traffic_classifier.h5\")"
   ]
  },
  {
   "cell_type": "code",
   "execution_count": null,
   "metadata": {},
   "outputs": [],
   "source": []
  }
 ],
 "metadata": {
  "kernelspec": {
   "display_name": "Python 3",
   "language": "python",
   "name": "python3"
  },
  "language_info": {
   "codemirror_mode": {
    "name": "ipython",
    "version": 3
   },
   "file_extension": ".py",
   "mimetype": "text/x-python",
   "name": "python",
   "nbconvert_exporter": "python",
   "pygments_lexer": "ipython3",
   "version": "3.8.3"
  }
 },
 "nbformat": 4,
 "nbformat_minor": 4
}
